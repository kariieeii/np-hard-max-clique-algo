{
 "cells": [
  {
   "cell_type": "code",
   "execution_count": 2,
   "id": "5531a548-73a0-46e5-9703-eba32aba0dc1",
   "metadata": {},
   "outputs": [
    {
     "name": "stdout",
     "output_type": "stream",
     "text": [
      "Max Cliques:\n",
      "[0, 1, 2]\n",
      "[1, 2, 3]\n",
      "[3, 4]\n"
     ]
    }
   ],
   "source": [
    "def bron_kerbosch(graph, R, P, X, cliques):\n",
    "    if not P and not X:\n",
    "        cliques.append(R)\n",
    "        return\n",
    "\n",
    "    for v in list(P):  # Convert set P to a list\n",
    "        bron_kerbosch(graph, R + [v], P.intersection(graph[v]), X.intersection(graph[v]), cliques)\n",
    "        P.remove(v)\n",
    "        X.add(v)\n",
    "\n",
    "# Example usage:\n",
    "if __name__ == \"__main__\":\n",
    "    # Create a sample graph represented as an adjacency list\n",
    "    graph = {\n",
    "        0: [1, 2],\n",
    "        1: [0, 2, 3],\n",
    "        2: [0, 1, 3],\n",
    "        3: [1, 2, 4],\n",
    "        4: [3]\n",
    "    }\n",
    "\n",
    "    # Find cliques\n",
    "    cliques = []\n",
    "    bron_kerbosch(graph, [], set(graph.keys()), set(), cliques)\n",
    "\n",
    "    # Print the cliques\n",
    "    print(\"Max Cliques:\")\n",
    "    for clique in cliques:\n",
    "        print(clique)\n"
   ]
  },
  {
   "cell_type": "code",
   "execution_count": 9,
   "id": "b54b014f-cf89-4a6b-a957-e90bafe06d10",
   "metadata": {},
   "outputs": [
    {
     "name": "stdout",
     "output_type": "stream",
     "text": [
      "Max Clique: [0, 1, 2]\n"
     ]
    }
   ],
   "source": [
    "class MaxCliqueNode:\n",
    "    def __init__(self, graph, current_clique, remaining_nodes):\n",
    "        self.graph = graph\n",
    "        self.current_clique = current_clique\n",
    "        self.remaining_nodes = remaining_nodes\n",
    "\n",
    "    def is_promising(self):\n",
    "        for node in self.remaining_nodes:\n",
    "            if all(node in self.graph[other_node] for other_node in self.current_clique):\n",
    "                return True\n",
    "        return False\n",
    "\n",
    "    def is_solution(self):\n",
    "        return not self.remaining_nodes\n",
    "\n",
    "    def branch(self):\n",
    "        children = []\n",
    "        for node in self.remaining_nodes:\n",
    "            if all(node in self.graph[other_node] for other_node in self.current_clique):\n",
    "                new_clique = self.current_clique + [node]\n",
    "                new_remaining_nodes = [n for n in self.remaining_nodes if n in self.graph[node]]\n",
    "                child_node = MaxCliqueNode(self.graph, new_clique, new_remaining_nodes)\n",
    "                children.append(child_node)\n",
    "        return children\n",
    "\n",
    "def branch_and_bound(initial_node):\n",
    "    best_solution = None\n",
    "    priority_queue = [initial_node]\n",
    "\n",
    "    while priority_queue:\n",
    "        current_node = priority_queue.pop(0)\n",
    "\n",
    "        if current_node.is_solution():\n",
    "            if best_solution is None or len(current_node.current_clique) > len(best_solution.current_clique):\n",
    "                best_solution = current_node\n",
    "\n",
    "        if current_node.is_promising():\n",
    "            children = current_node.branch()\n",
    "            priority_queue.extend(children)\n",
    "\n",
    "    return best_solution\n",
    "\n",
    "def max_clique_branch_and_bound(graph):\n",
    "    initial_node = MaxCliqueNode(graph, [], list(graph.keys()))\n",
    "    return branch_and_bound(initial_node)\n",
    "\n",
    "# Example usage:\n",
    "if __name__ == \"__main__\":\n",
    "    # Create a sample graph represented as an adjacency list\n",
    "    graph = {\n",
    "        0: [1, 2, 3],\n",
    "        1: [0, 2],\n",
    "        2: [0, 1, 3],\n",
    "        3: [0, 2],\n",
    "    }\n",
    "\n",
    "    # Find the maximum clique\n",
    "    max_clique = max_clique_branch_and_bound(graph)\n",
    "\n",
    "    # Print the result\n",
    "    print(\"Max Clique:\", max_clique.current_clique)\n"
   ]
  },
  {
   "cell_type": "code",
   "execution_count": 20,
   "id": "0517dd7e-0a62-4697-8e95-c196f7cab070",
   "metadata": {},
   "outputs": [
    {
     "name": "stdout",
     "output_type": "stream",
     "text": [
      "[0, 1, 2]\n"
     ]
    }
   ],
   "source": [
    "def CarraghanPardalos(clique, candidates, excluded, graph):\n",
    "    if not candidates and not excluded:\n",
    "        return [clique]\n",
    "    result = []\n",
    "    for candidate in list(candidates):\n",
    "        new_candidates = candidates.intersection(graph[candidate])\n",
    "        new_excluded = excluded.intersection(graph[candidate])\n",
    "        result.extend(CarraghanPardalos(clique + [candidate], new_candidates, new_excluded, graph))\n",
    "        candidates.remove(candidate)\n",
    "        excluded.add(candidate)\n",
    "    return result\n",
    "\n",
    "def max_clique(graph):\n",
    "    cliques = CarraghanPardalos([], set(graph.keys()), set(), graph)\n",
    "    return max(cliques, key=len)\n",
    "\n",
    "# Example\n",
    "\n",
    "graph = {\n",
    "    0: {1, 2},\n",
    "    1: {0, 2, 3},\n",
    "    2: {0, 1, 4},\n",
    "    3: {1, 4},\n",
    "    4: {2, 3},\n",
    "}\n",
    "    \n",
    "print(max_clique(graph))\n"
   ]
  },
  {
   "cell_type": "code",
   "execution_count": null,
   "id": "1d4dbbed-9b78-4c8c-ac3c-df952fbc1a1e",
   "metadata": {},
   "outputs": [],
   "source": []
  }
 ],
 "metadata": {
  "kernelspec": {
   "display_name": "Python 3 (ipykernel)",
   "language": "python",
   "name": "python3"
  },
  "language_info": {
   "codemirror_mode": {
    "name": "ipython",
    "version": 3
   },
   "file_extension": ".py",
   "mimetype": "text/x-python",
   "name": "python",
   "nbconvert_exporter": "python",
   "pygments_lexer": "ipython3",
   "version": "3.10.0"
  }
 },
 "nbformat": 4,
 "nbformat_minor": 5
}
